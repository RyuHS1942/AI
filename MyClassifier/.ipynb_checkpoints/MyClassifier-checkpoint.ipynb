{
 "cells": [
  {
   "cell_type": "markdown",
   "metadata": {},
   "source": [
    "# loading data"
   ]
  },
  {
   "cell_type": "code",
   "execution_count": 1,
   "metadata": {},
   "outputs": [],
   "source": [
    "import struct\n",
    "import numpy as np\n",
    "import pandas as pd\n",
    "import matplotlib.pyplot as plt\n",
    "\n",
    "%matplotlib inline"
   ]
  },
  {
   "cell_type": "code",
   "execution_count": 2,
   "metadata": {},
   "outputs": [],
   "source": [
    "def read_idx(filename):\n",
    "    with open(filename, 'rb') as f:\n",
    "        zero, data_type, dims = struct.unpack('>HBB', f.read(4))\n",
    "        shape = tuple(struct.unpack('>I', f.read(4))[0] for d in range(dims))\n",
    "        return np.fromstring(f.read(), dtype=np.uint8).reshape(shape)"
   ]
  },
  {
   "cell_type": "code",
   "execution_count": 4,
   "metadata": {},
   "outputs": [
    {
     "name": "stderr",
     "output_type": "stream",
     "text": [
      "/home/ryu/anaconda3/lib/python3.7/site-packages/ipykernel_launcher.py:5: DeprecationWarning: The binary mode of fromstring is deprecated, as it behaves surprisingly on unicode inputs. Use frombuffer instead\n",
      "  \"\"\"\n"
     ]
    }
   ],
   "source": [
    "raw_train = read_idx(\"./data/train-images.idx3-ubyte\")\n",
    "X = np.reshape(raw_train, (60000, 28*28))#train_data\n",
    "y = read_idx(\"./data/train-labels.idx1-ubyte\")#train_lebel\n",
    "\n",
    "raw_test = read_idx(\"./data/t10k-images.idx3-ubyte\")\n",
    "test_data = np.reshape(raw_test, (10000, 28*28))\n",
    "test_label = read_idx(\"./data/t10k-labels.idx1-ubyte\")"
   ]
  },
  {
   "cell_type": "markdown",
   "metadata": {},
   "source": [
    "# preprocessing"
   ]
  },
  {
   "cell_type": "code",
   "execution_count": 6,
   "metadata": {},
   "outputs": [],
   "source": [
    "from sklearn.preprocessing import MinMaxScaler\n",
    "\n",
    "mm = MinMaxScaler()\n",
    "\n",
    "X = mm.fit_transform(X)"
   ]
  },
  {
   "cell_type": "code",
   "execution_count": 7,
   "metadata": {},
   "outputs": [
    {
     "name": "stdout",
     "output_type": "stream",
     "text": [
      "(60000, 784)\n",
      "(60000,)\n"
     ]
    }
   ],
   "source": [
    "print(X.shape)\n",
    "print(y.shape)"
   ]
  },
  {
   "cell_type": "markdown",
   "metadata": {},
   "source": [
    "# classifier"
   ]
  },
  {
   "cell_type": "code",
   "execution_count": null,
   "metadata": {
    "scrolled": true
   },
   "outputs": [],
   "source": [
    "data_number, data_feature = np.shape(X)\n",
    "init_w=np.random.rand(data_feature, 1)\n",
    "\n",
    "for j in range(data_number):\n",
    "    pridicted=np.dot(X[j],init_w)\n",
    "    condition_=y*(init_w+pridicted)\n",
    "print(condition_)"
   ]
  },
  {
   "cell_type": "code",
   "execution_count": 3,
   "metadata": {},
   "outputs": [],
   "source": [
    "import numpy as np\n",
    "\n",
    "class MyClassifier(object):\n",
    "    \n",
    "    def __init__(self, C=0.1, iter=10):\n",
    "        self.C=C\n",
    "        self.iter=iter\n",
    "        \n",
    "    def fit(self, X, y):\n",
    "        \"\"\"Fit the SVM model according to the given training data.\"\"\"\n",
    "        data_number, data_feature = np.shape(X)\n",
    "        init_w=np.random.rand(data_feature, 1)\n",
    "        \n",
    "        for label in range(0,9):\n",
    "            for i in (0,iter):\n",
    "                for j in range(data_number):\n",
    "                    pridicted=np.dot(X[j],init_w)\n",
    "                    if(label==y[j]):\n",
    "                        y=1\n",
    "                    else :\n",
    "                        y=-1\n",
    "                    \n",
    "                    if((a==0 and y*pridicted>=1)or(a==c and y*pridicted<1)):\n",
    "                        pass\n",
    "                    else :\n",
    "                        old_a=a\n",
    "                        a=old_a+(1-y*pridicted)*(np.dot(X[j],X[j]))\n",
    "                        \n",
    "                        if(a<0):\n",
    "                            a=0\n",
    "                        if(a>C):\n",
    "                            a=C\n",
    "                        w=w+(a-old_a)*y*x[j]\n",
    "                    \n",
    "        return self\n",
    "   \n",
    "    def _shuffle(self, X, y):\n",
    "        \"\"\"Shuffle training data\"\"\"\n",
    "        r = np.random.permutation(len(y))\n",
    "        return X[r], y[r]\n",
    "    \n",
    "    def get_params(self, deep=True):\n",
    "        \"\"\"Get parameters for this estimator.\"\"\"\n",
    "        out = dict()#사전 만들기\n",
    "        for key in self._get_param_names():\n",
    "            value = getattr(self, key, None)#getattr - 해당되는 값을 가져온다\n",
    "            if deep and hasattr(value, 'get_params'):#hasattr - value 내에 해당하는 값이 있으면 True, 없으면 False\n",
    "                deep_items = value.get_params().items()\n",
    "                out.update((key + '__' + k, val) for k, val in deep_items)\n",
    "            out[key] = value\n",
    "        return out\n",
    "   \n",
    "    def predict(self, X):\n",
    "        \"\"\"Perform classification on samples in X.\"\"\"\n",
    "        return np.where(np.dot(X, self.w_[1:]) + self.w_[0] >= 0.0, 1, -1)\n",
    "    \n",
    "    def score(self, X, y, sample_weight=None):\n",
    "        \"\"\"Returns the mean accuracy on the given test data and labels.\"\"\"\n",
    "        return accuracy_score(y, self.predict(X), sample_weight=sample_weight)\n",
    "    \n",
    "    def set_params(self, **parameters):\n",
    "        \"\"\"Set the parameters of this estimator.\"\"\"\n",
    "        return self"
   ]
  },
  {
   "cell_type": "markdown",
   "metadata": {},
   "source": [
    "# training"
   ]
  },
  {
   "cell_type": "code",
   "execution_count": 13,
   "metadata": {
    "scrolled": true
   },
   "outputs": [
    {
     "data": {
      "image/png": "[encoded data removed]",
      "text/plain": [
       "<Figure size 432x288 with 1 Axes>"
      ]
     },
     "metadata": {
      "needs_background": "light"
     },
     "output_type": "display_data"
    }
   ],
   "source": [
    "mine = MyClassifier(C=0.1, iter=10)\n",
    "\n",
    "mine.fit(X, y)\n",
    "\n",
    "plt.plot(range(1, len(mine.errors_) + 1), mine.errors_, marker='o')\n",
    "plt.xlabel('Epochs')\n",
    "plt.ylabel('Number of updates')\n",
    "\n",
    "plt.tight_layout()\n",
    "# plt.savefig('./perceptron_1.png', dpi=300)\n",
    "plt.show()"
   ]
  },
  {
   "cell_type": "code",
   "execution_count": null,
   "metadata": {},
   "outputs": [],
   "source": []
  },
  {
   "cell_type": "markdown",
   "metadata": {},
   "source": [
    "# gridsearch"
   ]
  },
  {
   "cell_type": "markdown",
   "metadata": {},
   "source": [
    "from sklearn.model_selection import GridSearchCV\n",
    "from sklearn.svm import SVC\n",
    "from sklearn.linear_model import LogisticRegression\n",
    "from sklearn.metrics import make_scorer, accuracy_score, f1_score"
   ]
  },
  {
   "cell_type": "markdown",
   "metadata": {
    "scrolled": true
   },
   "source": [
    "mine = MyClassifier()\n",
    "\n",
    "my_param={\"C\":[0.01, 0.1, 1], \n",
    "          }\n",
    "\n",
    "scoring = {'f1 macro': make_scorer(f1_score , average='macro'),\n",
    "           'f1 micro': make_scorer(f1_score, average = 'micro'),\n",
    "           'Accuracy': make_scorer(accuracy_score)\n",
    "          }\n",
    "\n",
    "my_grid = GridSearchCV(mine, my_param, cv=10, scoring=scoring, refit=False)\n",
    "my_grid.fit(train_mm, train_label)"
   ]
  }
 ],
 "metadata": {
  "kernelspec": {
   "display_name": "Python 3",
   "language": "python",
   "name": "python3"
  },
  "language_info": {
   "codemirror_mode": {
    "name": "ipython",
    "version": 3
   },
   "file_extension": ".py",
   "mimetype": "text/x-python",
   "name": "python",
   "nbconvert_exporter": "python",
   "pygments_lexer": "ipython3",
   "version": "3.7.4"
  }
 },
 "nbformat": 4,
 "nbformat_minor": 2
}
