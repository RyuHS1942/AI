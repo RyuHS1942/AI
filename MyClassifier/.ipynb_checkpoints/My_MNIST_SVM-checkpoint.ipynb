{
 "cells": [
  {
   "cell_type": "markdown",
   "metadata": {},
   "source": [
    "# loading"
   ]
  },
  {
   "cell_type": "code",
   "execution_count": 1,
   "metadata": {},
   "outputs": [],
   "source": [
    "import os\n",
    "import struct\n",
    "import random\n",
    "import numpy as np\n",
    "import matplotlib.pyplot as plt\n",
    "\n",
    "def load_mnist(path, kind='train'):\n",
    "    \"\"\"Load MNIST data from `path`\"\"\"\n",
    "    labels_path = os.path.join(path,\n",
    "                               '%s-labels.idx1-ubyte'\n",
    "                                % kind)\n",
    "    images_path = os.path.join(path,\n",
    "                               '%s-images.idx3-ubyte'\n",
    "                               % kind)\n",
    "\n",
    "    with open(labels_path, 'rb') as lbpath:\n",
    "        magic, n = struct.unpack('>II',\n",
    "                                 lbpath.read(8))\n",
    "        labels = np.fromfile(lbpath,\n",
    "                             dtype=np.uint8)\n",
    "\n",
    "    with open(images_path, 'rb') as imgpath:\n",
    "        magic, num, rows, cols = struct.unpack(\">IIII\",\n",
    "                                               imgpath.read(16))\n",
    "        images = np.fromfile(imgpath,\n",
    "                             dtype=np.uint8).reshape(len(labels), 784)\n",
    "\n",
    "    return images, labels\n",
    "\n",
    "#### Loading the data\n",
    "\n",
    "X_train, y_train = load_mnist('./data', kind='train')\n",
    "X_test, y_test = load_mnist('./data', kind='t10k')"
   ]
  },
  {
   "cell_type": "code",
   "execution_count": 2,
   "metadata": {
    "scrolled": true
   },
   "outputs": [
    {
     "name": "stdout",
     "output_type": "stream",
     "text": [
      "train_sample_number:\t:60000, column_number:784\n",
      "test_sample_number\t:10000, column_number:784\n"
     ]
    }
   ],
   "source": [
    "print('train_sample_number:\\t:%d, column_number:%d' %(X_train.shape[0], X_train.shape[1]))\n",
    "print('test_sample_number\\t:%d, column_number:%d' %(X_test.shape[0], X_test.shape[1]))"
   ]
  },
  {
   "cell_type": "markdown",
   "metadata": {},
   "source": [
    "# preprocessing"
   ]
  },
  {
   "cell_type": "code",
   "execution_count": 3,
   "metadata": {},
   "outputs": [],
   "source": [
    "X_train=X_train/255\n",
    "X_test=X_test/255"
   ]
  },
  {
   "cell_type": "markdown",
   "metadata": {},
   "source": [
    "# classifer"
   ]
  },
  {
   "cell_type": "code",
   "execution_count": 66,
   "metadata": {},
   "outputs": [],
   "source": [
    "class myClassifier(object):\n",
    "    \"\"\"\n",
    "    ovr\n",
    "    \"\"\"\n",
    "    def __init__(self, C=0.1, eta=0.001, batch_size=500, num_iter=25, epsilon=0.001, class_num=0, shuffle=True):\n",
    "        self.C=C\n",
    "        self.eta=eta\n",
    "        self.batch_size=batch_size\n",
    "        self.num_iter=num_iter\n",
    "        self.epsilon=epsilon\n",
    "        self.class_num=class_num\n",
    "        self.shuffle=shuffle\n",
    "        \n",
    "    def fit(self, X, y):\n",
    "        X_num, X_fea = np.shape(X)\n",
    "        #X_num=60000 X_fea=28*28\n",
    "        self.class_num=len(np.unique(y))\n",
    "        #class_num=10\n",
    "        \n",
    "        w=np.random.rand(self.class_num,X_fea)\n",
    "        #w=[class_num][28*28]\n",
    "        aver_w=w\n",
    "        b=np.random.rand(self.class_num,1)\n",
    "        #b=[class_num][1]\n",
    "        aver_b=b\n",
    "        \n",
    "        if self.shuffle:\n",
    "            s_data, s_labels = self.shuffling(X, y)\n",
    "            #s_data[60000][28*28]\n",
    "            #s_labels[60000][1]\n",
    "        \n",
    "        encoded_y=self.encoding(s_labels)\n",
    "        #encoded_y[60000][class_num]\n",
    "        \n",
    "        cnt=0\n",
    "        batch_count=X_num/self.batch_size\n",
    "        for Xi in range(self.num_iter):\n",
    "            #minibatch training\n",
    "            for t in range(int(batch_count)):\n",
    "                ###sgd\n",
    "                batch_X, batch_y, bs=self.batching(s_data, encoded_y, t)\n",
    "                #batch_X[batch_size][784] batch_y[batch_size][class_num] last_size=?\n",
    "                \n",
    "                batch_X=np.reshape(batch_X,(bs,X_fea))\n",
    "                batch_y=np.reshape(batch_y,(bs,self.class_num))\n",
    "                \n",
    "                delta_w=np.zeros((self.class_num,X_fea))\n",
    "                #delta_w[class_num][28*28]\n",
    "                delta_b=np.zeros((self.class_num,1))\n",
    "                #delta_b[10][1]\n",
    "                \n",
    "                loss=self.hinge_loss(batch_X, batch_y, w, b)\n",
    "                #loss[batch_size][class_num]\n",
    "                loss=1-loss\n",
    "                \n",
    "                loss[loss<=0]=0\n",
    "                loss[loss>0]=1\n",
    "                \n",
    "                l_M_y=loss*batch_y\n",
    "                #l_M_y  =loss[bs][class_num] batch_y[bs][class_num]\n",
    "                \n",
    "                temp_w=np.dot(np.transpose(l_M_y),batch_X)\n",
    "                #temp[10][28*28]=batch_y[batch_size][28*28]\n",
    "                delta_w=-(1/bs)*np.array(temp_w)+(1/self.C)*np.array(w)\n",
    "                #delta_w[10][28*28]=c*temp[10][28*28]+c*w[10][28*28]\n",
    "                \n",
    "                temp_b=np.sum(np.transpose(l_M_y),axis=1)\n",
    "                temp_b=np.reshape(temp_b,(self.class_num,1))\n",
    "                #temp[class_num][1]\n",
    "                delta_b=-(1/bs) * temp_b\n",
    "                #delta_b[10][1]=c*[class_num][1]\n",
    "                cnt+=1\n",
    "            ###algorism\n",
    "            \n",
    "            w=np.array(w)-(self.eta*np.array(delta_w))\n",
    "            #w[class_num][28*28]\n",
    "            b=np.subtract(b,(self.eta * delta_b))\n",
    "            #b[class_num][1]\n",
    "            \n",
    "            temp_w=(cnt/cnt+1)*aver_w + (1/cnt+1)*w\n",
    "            temp_b=(cnt/cnt+1)*aver_b + (1/cnt+1)*b\n",
    "            \n",
    "            aver_w=np.where(aver_w>temp_w,aver_w,temp_w)\n",
    "            aver_b=np.where(aver_b>temp_b,aver_b,aver_b)\n",
    "            \n",
    "        return aver_w, aver_b\n",
    "           \n",
    "    def encoding(self, y):\n",
    "        encoded_y=-1*np.ones((np.shape(y)[0],self.class_num))\n",
    "        #encoded_y[60000][class_num]\n",
    "        for i in range(np.shape(y)[0]):\n",
    "            encoded_y[i,y[i]] = 1\n",
    "        return encoded_y\n",
    "                \n",
    "    def shuffling(self, X, y):\n",
    "        temp=list(zip(X,y))\n",
    "        random.shuffle(temp)\n",
    "        X,y=zip(*temp)\n",
    "        return X,y\n",
    "    \n",
    "    def batching(self, X, y, t):                         \n",
    "        batch_X=X[t*self.batch_size:min(len(X),(t+1)*self.batch_size)]\n",
    "        #batch_X[batch_size][28*28]\n",
    "        batch_y=y[t*self.batch_size:min(len(X),(t+1)*self.batch_size)]\n",
    "        #batch_y[batch_size][class_num]\n",
    "        last_size=min(len(X), (t+1)*self.batch_size)-t*self.batch_size\n",
    "        #last_size[size][28*28]\n",
    "        \n",
    "        return batch_X, batch_y,last_size\n",
    "    \n",
    "    def hinge_loss(self, X, y, w, b):\n",
    "        net_v=self.net_input(X,w)\n",
    "        #net_v[batch_size][class_num]\n",
    "        temp=np.array(net_v)+np.transpose(b)\n",
    "        #temp[batch_size][class_num]\n",
    "        loss=y*temp\n",
    "        #loss[batch_size][class_num]\n",
    "        return loss\n",
    "    \n",
    "    def net_input(self, X, w):\n",
    "        #X[batch_size][28*28] w[class_num][28*28]\n",
    "        return np.dot(X,np.transpose(w))#[batch_size][class_num]\n",
    "                      \n",
    "    def test(self,X,y,w,b):\n",
    "        net_v=self.net_input(X,w)\n",
    "        #net_v[batch_size][class_num]\n",
    "        temp=np.array(net_v)+np.transpose(b)\n",
    "        #temp[batch_size][class_num]\n",
    "        \n",
    "        predicted=np.argmax(temp,axis=1)\n",
    "        \n",
    "        correct=np.count_nonzero(np.where(predicted==y,1,0))\n",
    "        return correct\n",
    "    \n",
    "    def img(self, row, X, y, p):\n",
    "        image = np.zeros((28,28))\n",
    "        for i in range(0,28):\n",
    "            for j in range(0,28):\n",
    "                pix = 28*i+j\n",
    "                image[i,j] = X[row, pix]\n",
    "        plt.imshow(image, cmap = 'gray')\n",
    "        plt.title('%d)true_value: %d pridicted_value: %d' %(row+1, y[row], p))\n",
    "        plt.show()\n",
    "        return print(X[row,0])"
   ]
  },
  {
   "cell_type": "code",
   "execution_count": 67,
   "metadata": {
    "scrolled": false
   },
   "outputs": [],
   "source": [
    "mine=myClassifier()\n",
    "w,b = mine.fit(X_train, y_train)"
   ]
  },
  {
   "cell_type": "code",
   "execution_count": null,
   "metadata": {},
   "outputs": [],
   "source": []
  },
  {
   "cell_type": "code",
   "execution_count": 68,
   "metadata": {
    "scrolled": true
   },
   "outputs": [
    {
     "data": {
      "text/plain": [
       "1159"
      ]
     },
     "execution_count": 68,
     "metadata": {},
     "output_type": "execute_result"
    }
   ],
   "source": [
    "result=mine.test(X_test,y_test,w,b)\n",
    "result"
   ]
  },
  {
   "cell_type": "code",
   "execution_count": null,
   "metadata": {},
   "outputs": [],
   "source": []
  },
  {
   "cell_type": "code",
   "execution_count": 72,
   "metadata": {},
   "outputs": [],
   "source": [
    "#result = pd.DataFrame(lr_grid.cv_results_)\n",
    "#result.to_csv(\"cv_result_유현상.csv\")"
   ]
  },
  {
   "cell_type": "code",
   "execution_count": null,
   "metadata": {},
   "outputs": [],
   "source": []
  }
 ],
 "metadata": {
  "kernelspec": {
   "display_name": "Python 3",
   "language": "python",
   "name": "python3"
  },
  "language_info": {
   "codemirror_mode": {
    "name": "ipython",
    "version": 3
   },
   "file_extension": ".py",
   "mimetype": "text/x-python",
   "name": "python",
   "nbconvert_exporter": "python",
   "pygments_lexer": "ipython3",
   "version": "3.7.4"
  }
 },
 "nbformat": 4,
 "nbformat_minor": 2
}
