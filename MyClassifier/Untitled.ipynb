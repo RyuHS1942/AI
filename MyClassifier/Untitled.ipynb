{
 "cells": [
  {
   "cell_type": "markdown",
   "metadata": {},
   "source": [
    "# loading data"
   ]
  },
  {
   "cell_type": "code",
   "execution_count": 2,
   "metadata": {},
   "outputs": [],
   "source": [
    "import struct\n",
    "import numpy as np\n",
    "import pandas as pd\n",
    "import matplotlib.pyplot as plt\n",
    "\n",
    "%matplotlib inline"
   ]
  },
  {
   "cell_type": "code",
   "execution_count": 3,
   "metadata": {},
   "outputs": [],
   "source": [
    "def read_idx(filename):\n",
    "    with open(filename, 'rb') as f:\n",
    "        zero, data_type, dims = struct.unpack('>HBB', f.read(4))\n",
    "        shape = tuple(struct.unpack('>I', f.read(4))[0] for d in range(dims))\n",
    "        return np.fromstring(f.read(), dtype=np.uint8).reshape(shape)"
   ]
  },
  {
   "cell_type": "code",
   "execution_count": 4,
   "metadata": {},
   "outputs": [
    {
     "name": "stderr",
     "output_type": "stream",
     "text": [
      "/home/ryu/anaconda3/lib/python3.7/site-packages/ipykernel_launcher.py:5: DeprecationWarning: The binary mode of fromstring is deprecated, as it behaves surprisingly on unicode inputs. Use frombuffer instead\n",
      "  \"\"\"\n"
     ]
    }
   ],
   "source": [
    "raw_train = read_idx(\"./data/train-images.idx3-ubyte\")\n",
    "X = np.reshape(raw_train, (60000, 28*28))#train_data\n",
    "y = read_idx(\"./data/train-labels.idx1-ubyte\")#train_label\n",
    "\n",
    "raw_test = read_idx(\"./data/t10k-images.idx3-ubyte\")\n",
    "test_data = np.reshape(raw_test, (10000, 28*28))\n",
    "test_label = read_idx(\"./data/t10k-labels.idx1-ubyte\")"
   ]
  },
  {
   "cell_type": "markdown",
   "metadata": {},
   "source": [
    "# preprocessing"
   ]
  },
  {
   "cell_type": "code",
   "execution_count": 5,
   "metadata": {},
   "outputs": [],
   "source": [
    "from sklearn.preprocessing import MinMaxScaler\n",
    "\n",
    "mm = MinMaxScaler()\n",
    "\n",
    "X = mm.fit_transform(X)"
   ]
  },
  {
   "cell_type": "code",
   "execution_count": 6,
   "metadata": {},
   "outputs": [
    {
     "name": "stdout",
     "output_type": "stream",
     "text": [
      "(60000, 784)\n",
      "(60000,)\n"
     ]
    }
   ],
   "source": [
    "print(X.shape)\n",
    "print(y.shape)"
   ]
  },
  {
   "cell_type": "code",
   "execution_count": 80,
   "metadata": {},
   "outputs": [
    {
     "ename": "MemoryError",
     "evalue": "Unable to allocate array with shape (60000, 60000) and data type float64",
     "output_type": "error",
     "traceback": [
      "\u001b[0;31m-------------------------------------------------\u001b[0m",
      "\u001b[0;31mMemoryError\u001b[0m     Traceback (most recent call last)",
      "\u001b[0;32m<ipython-input-80-4ebc01367e13>\u001b[0m in \u001b[0;36m<module>\u001b[0;34m\u001b[0m\n\u001b[1;32m      1\u001b[0m \u001b[0minit_w\u001b[0m\u001b[0;34m=\u001b[0m\u001b[0mnp\u001b[0m\u001b[0;34m.\u001b[0m\u001b[0mrandom\u001b[0m\u001b[0;34m.\u001b[0m\u001b[0mrand\u001b[0m\u001b[0;34m(\u001b[0m\u001b[0mlen\u001b[0m\u001b[0;34m(\u001b[0m\u001b[0my\u001b[0m\u001b[0;34m)\u001b[0m\u001b[0;34m,\u001b[0m \u001b[0;36m1\u001b[0m\u001b[0;34m)\u001b[0m\u001b[0;34m\u001b[0m\u001b[0;34m\u001b[0m\u001b[0m\n\u001b[1;32m      2\u001b[0m \u001b[0;32mfor\u001b[0m \u001b[0mi\u001b[0m \u001b[0;32min\u001b[0m \u001b[0mrange\u001b[0m\u001b[0;34m(\u001b[0m\u001b[0mlen\u001b[0m\u001b[0;34m(\u001b[0m\u001b[0my\u001b[0m\u001b[0;34m)\u001b[0m\u001b[0;34m)\u001b[0m\u001b[0;34m:\u001b[0m\u001b[0;34m\u001b[0m\u001b[0;34m\u001b[0m\u001b[0m\n\u001b[0;32m----> 3\u001b[0;31m     \u001b[0mc\u001b[0m\u001b[0;34m=\u001b[0m\u001b[0my\u001b[0m\u001b[0;34m*\u001b[0m\u001b[0minit_w\u001b[0m\u001b[0;34m\u001b[0m\u001b[0;34m\u001b[0m\u001b[0m\n\u001b[0m",
      "\u001b[0;31mMemoryError\u001b[0m: Unable to allocate array with shape (60000, 60000) and data type float64"
     ]
    }
   ],
   "source": [
    "init_w=np.random.rand(len(y), 1)\n",
    "for i in range(len(y)):\n",
    "    c=y*init_w"
   ]
  },
  {
   "cell_type": "code",
   "execution_count": 24,
   "metadata": {},
   "outputs": [],
   "source": [
    "def img(row, data):\n",
    "    image = np.zeros((28,28))\n",
    "    for i in range(0,28):\n",
    "        for j in range(0,28):\n",
    "            pix = 28*i+j\n",
    "            image[i,j] = data[row, pix]\n",
    "    plt.imshow(image, cmap = 'gray')\n",
    "    plt.show()\n",
    "    print (data[row,0])"
   ]
  },
  {
   "cell_type": "code",
   "execution_count": 49,
   "metadata": {
    "scrolled": true
   },
   "outputs": [
    {
     "name": "stdout",
     "output_type": "stream",
     "text": [
      "0.0\n"
     ]
    }
   ],
   "source": [
    "#for i in range(0,28):\n",
    "    \n",
    "print(X[1][4])"
   ]
  },
  {
   "cell_type": "code",
   "execution_count": 66,
   "metadata": {
    "scrolled": true
   },
   "outputs": [
    {
     "name": "stdout",
     "output_type": "stream",
     "text": [
      "[[0.96274918 0.06093266]\n",
      " [0.97743482 0.77509122]\n",
      " [0.91058599 0.64947179]\n",
      " ...\n",
      " [0.44509887 0.92948797]\n",
      " [0.68890782 0.85983389]\n",
      " [0.54956329 0.28028116]]\n"
     ]
    }
   ],
   "source": [
    "a,b=np.shape(X)\n",
    "w=np.random.rand(b,2)\n",
    "\n",
    "print(w[:])"
   ]
  },
  {
   "cell_type": "code",
   "execution_count": 75,
   "metadata": {},
   "outputs": [
    {
     "name": "stdout",
     "output_type": "stream",
     "text": [
      "[[57.46716273 51.66963117]\n",
      " [65.80249496 59.18657626]\n",
      " [39.25348771 41.42311678]\n",
      " ...\n",
      " [47.81839745 45.99045469]\n",
      " [40.73770211 38.9850228 ]\n",
      " [46.06091187 43.42109188]]\n"
     ]
    }
   ],
   "source": [
    "b = np.dot(X, w)\n",
    "a = b\n",
    "print(a)   "
   ]
  },
  {
   "cell_type": "code",
   "execution_count": null,
   "metadata": {},
   "outputs": [],
   "source": [
    "def one_number(labels, number):\n",
    "\treturn (labels == number)*1"
   ]
  },
  {
   "cell_type": "code",
   "execution_count": null,
   "metadata": {},
   "outputs": [],
   "source": [
    "label_ones = one_number(y_train, 2)"
   ]
  },
  {
   "cell_type": "code",
   "execution_count": null,
   "metadata": {},
   "outputs": [],
   "source": [
    "def update(weights, data_point, labels, alpha=.1):\n",
    "\tpredicted = predict(data_point, weights)\n",
    "#for i in range(0, len(weights)):\n",
    "\tweight_temp = np.zeros(np.shape(weights))\n",
    "\tweight_temp[:,0] = alpha*(labels-predicted)*data_point\n",
    "\treturn weight_temp+weights"
   ]
  },
  {
   "cell_type": "code",
   "execution_count": null,
   "metadata": {},
   "outputs": [],
   "source": [
    "np.shape(update(weights, X_train[3], label_ones[3]))"
   ]
  },
  {
   "cell_type": "code",
   "execution_count": null,
   "metadata": {},
   "outputs": [],
   "source": [
    "def train_perceptron(data, labels, weights, alpha = .1, iterations = 100):\n",
    "\tfor j in range(0, iterations):\n",
    "\t\tfor i in range(0, len(data)):\n",
    "\t\t\tweights = update(weights, data[i], labels[i], alpha)\n",
    "\treturn weights"
   ]
  },
  {
   "cell_type": "code",
   "execution_count": null,
   "metadata": {},
   "outputs": [],
   "source": [
    "weights_new = train_perceptron(X_train, label_ones, weights, alpha = .1, iterations = 50)"
   ]
  },
  {
   "cell_type": "code",
   "execution_count": null,
   "metadata": {},
   "outputs": [],
   "source": [
    "label_ones = one_number(y_train, 3)\n",
    "weights_new = train_perceptron(X_train, label_ones, weights, alpha = .01, iterations =6)"
   ]
  },
  {
   "cell_type": "code",
   "execution_count": null,
   "metadata": {},
   "outputs": [],
   "source": [
    "def test_perceptron_f(data, labels, weights):\n",
    "    a,b = np.shape(data)\n",
    "    predicted = predict(data, weights)\n",
    "    correct = (predicted==labels)*1==1\n",
    "    true_pos = np.sum((labels==1)*(correct))\n",
    "    true_neg = np.sum((labels==0)*(correct))\n",
    "    total_pos = np.sum(labels)\n",
    "    total_neg = a-total_pos\n",
    "    tp_p = true_pos/float(np.sum(labels))\n",
    "    tn_p = true_neg/float(a- np.sum(labels))\n",
    "    return true_pos, true_neg, tp_p, tn_p, total_pos, total_neg\n",
    "    \n",
    "a,b,c,d,e,f = test_perceptron_f(X_train, label_ones, weights_new)"
   ]
  },
  {
   "cell_type": "code",
   "execution_count": null,
   "metadata": {},
   "outputs": [],
   "source": [
    "print c, d"
   ]
  },
  {
   "cell_type": "code",
   "execution_count": null,
   "metadata": {},
   "outputs": [],
   "source": []
  },
  {
   "cell_type": "code",
   "execution_count": null,
   "metadata": {},
   "outputs": [],
   "source": [
    "for i in range(0,10):\n",
    "\tnum = i\n",
    "\tlabel_ones = one_number(y_train, num)\n",
    "\tweights_new = train_perceptron(X_train, label_ones, weights, alpha = .1, iterations =5)\n",
    "\tlabel_test = one_number(y_test, num)\n",
    "\ta = test_perceptron_f(X_test, label_test, weights_new)"
   ]
  },
  {
   "cell_type": "code",
   "execution_count": null,
   "metadata": {},
   "outputs": [],
   "source": [
    "def all_numbers(data,labels):\n",
    "\tc,d = np.shape(data)\n",
    "\tw = create_weights(data)\n",
    "\tweights = []\n",
    "\tfor i in range(0,  len(np.unique(labels))):\n",
    "\t\tz = one_number(labels, i)\n",
    "\t\ta = train_perceptron(data, z, w, .1, 4)\n",
    "\t\tweights.append(a[:,0])\n",
    "\treturn np.asarray(weights)"
   ]
  },
  {
   "cell_type": "code",
   "execution_count": null,
   "metadata": {},
   "outputs": [],
   "source": [
    "w = all_numbers(X_train, y_train)"
   ]
  },
  {
   "cell_type": "code",
   "execution_count": null,
   "metadata": {},
   "outputs": [],
   "source": [
    "print np.shape(w)"
   ]
  },
  {
   "cell_type": "code",
   "execution_count": null,
   "metadata": {},
   "outputs": [],
   "source": []
  },
  {
   "cell_type": "code",
   "execution_count": null,
   "metadata": {},
   "outputs": [],
   "source": [
    "def one_all(data, weights):\n",
    "\ta = np.dot(data,np.transpose(weights))\n",
    "\tb = len(np.shape(data))\n",
    "\tif b == 1:\n",
    "\t\treturn np.argmax(a)\n",
    "\treturn np.argmax(a, axis=1)\n",
    "\n",
    "\n",
    "def test_all(data, labels, weights):\n",
    "\ta, b = np.shape(labels)\n",
    "\tpredicted = one_all(data, weights)\n",
    "\tcorrect = predicted == labels[:,0]\n",
    "\taccuracy = np.sum(correct)/float(a)\n",
    "\treturn accuracy\n",
    "\n",
    "print test_all(X_train, y_train, w)"
   ]
  },
  {
   "cell_type": "code",
   "execution_count": null,
   "metadata": {},
   "outputs": [],
   "source": [
    "lbls = one_number(y_train, 2)\n",
    "lbls_t = one_number(y_test, 2)\n"
   ]
  },
  {
   "cell_type": "code",
   "execution_count": null,
   "metadata": {},
   "outputs": [],
   "source": [
    "alpha = []\n",
    "t = .000007\n",
    "for i in range(0,1):\n",
    "    alpha.append(t)\n",
    "    t = t/10.0\n",
    "True_pos = []\n",
    "True_neg = []\n",
    "w = create_weights(X_train)\n",
    "for a in alpha:\n",
    "    weights = w\n",
    "    print a\n",
    "    temp_p = []\n",
    "    temp_n = []\n",
    "    for j in range(0,200):\n",
    "        for k in range(0, len(X_train)):\n",
    "            weights = update(weights, X_train[k], lbls[k], a)\n",
    "        f,b,c,d,e,g = test_perceptron_f(X_test, lbls_t, weights)\n",
    "        temp_p.append(c)\n",
    "        temp_n.append(d)\n",
    "    True_pos.append(temp_p)\n",
    "    True_neg.append(temp_n)\n",
    "    print temp_p"
   ]
  },
  {
   "cell_type": "code",
   "execution_count": null,
   "metadata": {},
   "outputs": [],
   "source": []
  },
  {
   "cell_type": "markdown",
   "metadata": {},
   "source": [
    "https://github.com/zswarth/MNIST-Classification/blob/master/MNIST.ipynb"
   ]
  }
 ],
 "metadata": {
  "kernelspec": {
   "display_name": "Python 3",
   "language": "python",
   "name": "python3"
  },
  "language_info": {
   "codemirror_mode": {
    "name": "ipython",
    "version": 3
   },
   "file_extension": ".py",
   "mimetype": "text/x-python",
   "name": "python",
   "nbconvert_exporter": "python",
   "pygments_lexer": "ipython3",
   "version": "3.7.4"
  }
 },
 "nbformat": 4,
 "nbformat_minor": 2
}
